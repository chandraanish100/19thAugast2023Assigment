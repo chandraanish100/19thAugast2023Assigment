{
 "cells": [
  {
   "cell_type": "code",
   "execution_count": 1,
   "id": "fdbf64ac-b2bb-4888-9d2d-c4b08b3244bc",
   "metadata": {},
   "outputs": [
    {
     "name": "stdout",
     "output_type": "stream",
     "text": [
      "20\n",
      "50\n"
     ]
    }
   ],
   "source": [
    "x=50\n",
    "y=20\n",
    "z = x\n",
    "x = y\n",
    "y = z\n",
    "print(x)\n",
    "print(y)\n"
   ]
  },
  {
   "cell_type": "code",
   "execution_count": 3,
   "id": "db2a4a45-5932-40a5-8e2f-5d717ef3a066",
   "metadata": {},
   "outputs": [
    {
     "name": "stdin",
     "output_type": "stream",
     "text": [
      "Enter The Length:  5\n",
      "Enter The Width:  2\n"
     ]
    },
    {
     "name": "stdout",
     "output_type": "stream",
     "text": [
      "10\n"
     ]
    }
   ],
   "source": [
    "X=int(input(\"Enter The Length: \"))\n",
    "Y=int(input(\"Enter The Width: \"))\n",
    "Z = X*Y\n",
    "print(Z)\n"
   ]
  },
  {
   "cell_type": "code",
   "execution_count": 5,
   "id": "bdb5e152-37eb-47c2-8a93-47ea5abecd72",
   "metadata": {},
   "outputs": [
    {
     "name": "stdin",
     "output_type": "stream",
     "text": [
      "Enter the value:  12\n"
     ]
    },
    {
     "name": "stdout",
     "output_type": "stream",
     "text": [
      "Temperature in Fahrenheit:  53.6\n"
     ]
    }
   ],
   "source": [
    "Celcius = int(input(\"Enter the value: \"))\n",
    "Farenhite = (1.8*Celcius)+32\n",
    "\n",
    "print(\"Temperature in Fahrenheit: \", Farenhite)\n"
   ]
  },
  {
   "cell_type": "code",
   "execution_count": 6,
   "id": "b5572094-ed11-46b5-892f-286e7b43b06a",
   "metadata": {},
   "outputs": [
    {
     "data": {
      "text/plain": [
       "5"
      ]
     },
     "execution_count": 6,
     "metadata": {},
     "output_type": "execute_result"
    }
   ],
   "source": [
    "x = \"Anish\"\n",
    "len(x)\n"
   ]
  },
  {
   "cell_type": "code",
   "execution_count": 2,
   "id": "4d7b5a4f-768e-4e37-8d6a-768a7beb009c",
   "metadata": {},
   "outputs": [
    {
     "data": {
      "text/plain": [
       "'hsinA'"
      ]
     },
     "execution_count": 2,
     "metadata": {},
     "output_type": "execute_result"
    }
   ],
   "source": [
    "x=\"Anish\"\n",
    "x[-1::-1]\n"
   ]
  },
  {
   "cell_type": "code",
   "execution_count": 4,
   "id": "b3f4403f-ca62-45c5-923c-28a5dee800e0",
   "metadata": {},
   "outputs": [
    {
     "data": {
      "text/plain": [
       "'Anish'"
      ]
     },
     "execution_count": 4,
     "metadata": {},
     "output_type": "execute_result"
    }
   ],
   "source": [
    "S=\"      Anish         \"\n",
    "S.strip()\n"
   ]
  },
  {
   "cell_type": "code",
   "execution_count": 11,
   "id": "d8a6dee9-72c6-4540-8cf8-b1cbd918021c",
   "metadata": {},
   "outputs": [
    {
     "name": "stdin",
     "output_type": "stream",
     "text": [
      "Enter A sentence anish\n"
     ]
    },
    {
     "name": "stdout",
     "output_type": "stream",
     "text": [
      "1\n",
      "4\n"
     ]
    }
   ],
   "source": [
    "X= input(\"Enter A sentence\")\n",
    "x.lower()\n",
    "vowels=0\n",
    "consonants=0\n",
    "for i in x :\n",
    "    if(i =='a' or i =='e' or i =='i' or i =='o' or i =='u'):\n",
    "        vowels=vowels+1\n",
    "    else:\n",
    "        consonants=consonants+1\n",
    "        \n",
    "print(vowels)\n",
    "print(consonants)\n",
    "\n"
   ]
  },
  {
   "cell_type": "code",
   "execution_count": 17,
   "id": "5488af42-1c97-4e11-99d0-03856eb77304",
   "metadata": {},
   "outputs": [
    {
     "name": "stdin",
     "output_type": "stream",
     "text": [
      "Enter A word:  Mom\n"
     ]
    },
    {
     "name": "stdout",
     "output_type": "stream",
     "text": [
      "The word is palindrome\n"
     ]
    }
   ],
   "source": [
    "x=input(\"Enter A word: \")\n",
    "y=x.lower()\n",
    "s=y[0:]\n",
    "e=y[-1::-1]\n",
    "if s==e:\n",
    "    print(\"The word is palindrome\")\n",
    "else:\n",
    "    print(\"The word is not palindrome\")"
   ]
  },
  {
   "cell_type": "code",
   "execution_count": null,
   "id": "521daa31-5784-4bbc-9606-7be3a83b95af",
   "metadata": {},
   "outputs": [],
   "source": []
  }
 ],
 "metadata": {
  "kernelspec": {
   "display_name": "Python 3 (ipykernel)",
   "language": "python",
   "name": "python3"
  },
  "language_info": {
   "codemirror_mode": {
    "name": "ipython",
    "version": 3
   },
   "file_extension": ".py",
   "mimetype": "text/x-python",
   "name": "python",
   "nbconvert_exporter": "python",
   "pygments_lexer": "ipython3",
   "version": "3.10.8"
  }
 },
 "nbformat": 4,
 "nbformat_minor": 5
}
